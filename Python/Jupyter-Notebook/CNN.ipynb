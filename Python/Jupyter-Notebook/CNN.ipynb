{
 "cells": [
  {
   "cell_type": "markdown",
   "id": "eedc111b",
   "metadata": {},
   "source": [
    "**CNN.py** Trains and tests a Convolutional Neural Network using the ImageNet ResNet-50"
   ]
  },
  {
   "cell_type": "code",
   "execution_count": null,
   "id": "d3181ea0",
   "metadata": {},
   "outputs": [],
   "source": [
    "from tensorflow.keras.layers import Dense, BatchNormalization, GlobalAveragePooling2D, Dropout, Activation\n",
    "from tensorflow.keras.applications.resnet50 import ResNet50\n",
    "from tensorflow.keras.models import Model\n",
    "from sklearn.preprocessing import LabelEncoder\n",
    "from keras.utils import np_utils\n",
    "import pandas as pd\n",
    "import numpy as np\n",
    "import os\n",
    "\n",
    "os.chdir(r\"C:\\Carabid_Data\\Invert\")"
   ]
  },
  {
   "cell_type": "markdown",
   "id": "5c0062be",
   "metadata": {},
   "source": [
    "Importing modules <br>\n",
    "Set dataset directory (adjust this to your own directory)"
   ]
  },
  {
   "cell_type": "code",
   "execution_count": null,
   "id": "aa25f1b5",
   "metadata": {},
   "outputs": [],
   "source": [
    "df = pd.read_csv(\"shuffletrain.csv\")\n",
    "\n",
    "Y = df['AllTaxa']\n",
    "encoder = LabelEncoder()\n",
    "encoder.fit(Y)\n",
    "encoded_Y = encoder.transform(Y)\n",
    "# convert integers to dummy variables (i.e. one hot encoded)\n",
    "dummy_y = np_utils.to_categorical(encoded_Y)"
   ]
  },
  {
   "cell_type": "markdown",
   "id": "81237637",
   "metadata": {},
   "source": [
    "Read in feature vector dataset <br>\n",
    "Labels ('AllTaxa' for LITL dataset or 'Order' for order level dataset) are converted to one hot encoded labels as dummy_y <br>\n",
    "The numeric data is not used for this model"
   ]
  },
  {
   "cell_type": "code",
   "execution_count": null,
   "id": "7e1c30d2",
   "metadata": {},
   "outputs": [],
   "source": [
    "num_class = dummy_y.shape[1]\n",
    "\n",
    "base_model = ResNet50(include_top = False, weights = 'imagenet')\n",
    "x = base_model.output\n",
    "x = GlobalAveragePooling2D()(x)\n",
    "x = Dense(1024)(x)\n",
    "x = BatchNormalization()(x)\n",
    "x = Activation('relu')(x)\n",
    "x = Dropout(0.3)(x)\n",
    "x = Dense(128)(x)\n",
    "x = BatchNormalization()(x)\n",
    "x = Activation('relu')(x)\n",
    "x = Dropout(0.3)(x)\n",
    "predict = Dense(num_class, activation = \"softmax\")(x)\n",
    "resnet = Model(inputs = base_model.input, outputs = predict)\n",
    "\n",
    "for layer in base_model.layers:\n",
    "    layer.trainable = False\n",
    "    \n",
    "resnet.compile(optimizer = 'adam', loss = 'categorical_crossentropy', metrics = ['accuracy'])"
   ]
  },
  {
   "cell_type": "markdown",
   "id": "ca5eb27c",
   "metadata": {},
   "source": [
    "The Image Net ResNet50 is used as the base model, with a global average pooling layer between it and the dense layers. Two dense layers are added with batch normalization and 0.3 dropout. The size of the ouput layer is determined by the number of classes in `dummy_y`. The ResNet layers are set to not be trainable."
   ]
  },
  {
   "cell_type": "code",
   "execution_count": null,
   "id": "65bd925d",
   "metadata": {},
   "outputs": [],
   "source": [
    "resnet.fit(\n",
    "    x=images, y=dummy_y,\n",
    "    epochs=10, batch_size=128,\n",
    "    verbose = 1)"
   ]
  },
  {
   "cell_type": "markdown",
   "id": "1d629de7",
   "metadata": {},
   "source": [
    "The model is fit using images generated in **LoadImages.py**"
   ]
  },
  {
   "cell_type": "code",
   "execution_count": null,
   "id": "a2a99b28",
   "metadata": {},
   "outputs": [],
   "source": [
    "preds = resnet.predict(testimages)"
   ]
  },
  {
   "cell_type": "markdown",
   "id": "6c239772",
   "metadata": {},
   "source": [
    "The model is tested using images generated in **LoadImages.py**"
   ]
  }
 ],
 "metadata": {
  "kernelspec": {
   "display_name": "Python 3 (ipykernel)",
   "language": "python",
   "name": "python3"
  },
  "language_info": {
   "codemirror_mode": {
    "name": "ipython",
    "version": 3
   },
   "file_extension": ".py",
   "mimetype": "text/x-python",
   "name": "python",
   "nbconvert_exporter": "python",
   "pygments_lexer": "ipython3",
   "version": "3.9.12"
  }
 },
 "nbformat": 4,
 "nbformat_minor": 5
}
