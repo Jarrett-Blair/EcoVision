{
 "cells": [
  {
   "cell_type": "markdown",
   "id": "c3ae6d19",
   "metadata": {},
   "source": [
    "**LoadImages.py** Augments, shuffles and loads an image dataset and saves pathnames to ensure reproducibility."
   ]
  },
  {
   "cell_type": "code",
   "execution_count": null,
   "id": "dfe75398",
   "metadata": {},
   "outputs": [],
   "source": [
    "# Seed value\n",
    "# Apparently you may use different seed values at each stage\n",
    "seed_value= 123\n",
    "\n",
    "# 1. Set the `PYTHONHASHSEED` environment variable at a fixed value\n",
    "import os\n",
    "os.environ['PYTHONHASHSEED']=str(seed_value)\n",
    "\n",
    "# 2. Set the `python` built-in pseudo-random generator at a fixed value\n",
    "import random\n",
    "random.seed(seed_value)\n",
    "\n",
    "# 3. Set the `numpy` pseudo-random generator at a fixed value\n",
    "import numpy as np\n",
    "np.random.seed(seed_value)\n",
    "\n",
    "# 4. Set the `tensorflow` pseudo-random generator at a fixed value\n",
    "import tensorflow as tf\n",
    "tf.random.set_seed(seed_value)\n",
    "# for later versions: \n",
    "# tf.compat.v1.set_random_seed(seed_value)\n",
    "\n",
    "session_conf = tf.compat.v1.ConfigProto(intra_op_parallelism_threads=1, inter_op_parallelism_threads=1)\n",
    "sess = tf.compat.v1.Session(graph=tf.compat.v1.get_default_graph(), config=session_conf)\n",
    "tf.compat.v1.keras.backend.set_session(sess)"
   ]
  },
  {
   "cell_type": "markdown",
   "id": "2849f106",
   "metadata": {},
   "source": [
    "This chunk of code is to ensure reproducibility and is adapted from https://stackoverflow.com/a/52897216/18022123"
   ]
  },
  {
   "cell_type": "code",
   "execution_count": null,
   "id": "7d6b042c",
   "metadata": {},
   "outputs": [],
   "source": [
    "from tensorflow.keras.applications.resnet50 import preprocess_input\n",
    "from tensorflow.keras.preprocessing.image import ImageDataGenerator\n",
    "import numpy as np\n",
    "\n",
    "img_height, img_width = (224,224)\n",
    "batch_size = 49337\n",
    "\n",
    "train_data_dir = \"C:/Carabid_Data/Invert/computer-vision/JPG/training\""
   ]
  },
  {
   "cell_type": "markdown",
   "id": "81d40b89",
   "metadata": {},
   "source": [
    "Importing modules <br>\n",
    "Assign image height, width, and batch size values <br>\n",
    "Set image directory (adjust this to your own directory). This directory will be created by **ImageDir.R** <br>"
   ]
  },
  {
   "cell_type": "code",
   "execution_count": null,
   "id": "f51d77c2",
   "metadata": {},
   "outputs": [],
   "source": [
    "train_datagen = ImageDataGenerator(preprocessing_function = preprocess_input,\n",
    "                                   shear_range = 0.2,\n",
    "                                   zoom_range = 0.2,\n",
    "                                   horizontal_flip = True,\n",
    "                                   vertical_flip = True)\n",
    "\n",
    "train_generator = train_datagen.flow_from_directory(\n",
    "    train_data_dir,\n",
    "    target_size = (img_height, img_width),\n",
    "    batch_size = batch_size,\n",
    "    seed = seed_value,\n",
    "    shuffle = True,\n",
    "    class_mode = 'categorical')"
   ]
  },
  {
   "cell_type": "markdown",
   "id": "b6b6bab4",
   "metadata": {},
   "source": [
    "Initalize `train_datagen` and set image augmentation parameters <br>\n",
    "Generate image data and labels from image directory"
   ]
  },
  {
   "cell_type": "code",
   "execution_count": null,
   "id": "e73e2b01",
   "metadata": {},
   "outputs": [],
   "source": [
    "name_list = list()\n",
    "datagen = train_generator\n",
    "batches_per_epoch = datagen.samples // datagen.batch_size + (datagen.samples % datagen.batch_size > 0)\n",
    "for i in range(batches_per_epoch):\n",
    "    batch = next(datagen)\n",
    "    current_index = ((datagen.batch_index-1) * datagen.batch_size)\n",
    "    if current_index < 0:\n",
    "        if datagen.samples % datagen.batch_size > 0:\n",
    "            current_index = max(0,datagen.samples - datagen.samples % datagen.batch_size)\n",
    "        else:\n",
    "            current_index = max(0,datagen.samples - datagen.batch_size)\n",
    "    index_array = datagen.index_array[current_index:current_index + datagen.batch_size].tolist()\n",
    "    img_paths = [datagen.filepaths[idx] for idx in index_array]\n",
    "    name_list.extend(img_paths)"
   ]
  },
  {
   "cell_type": "markdown",
   "id": "4a74a791",
   "metadata": {},
   "source": [
    "This chunk creates a list of path names from `train_datagen`. This list can be saved and referenced to ensure reproducibility (i.e. ensure the data has been shuffled in the same way). This list is also referenced in **Shuffle.R** when shuffling the feature vector data. This code was adapted from https://stackoverflow.com/a/55386448/18022123"
   ]
  },
  {
   "cell_type": "code",
   "execution_count": null,
   "id": "90343f12",
   "metadata": {},
   "outputs": [],
   "source": [
    "images = train_generator[0][0]"
   ]
  },
  {
   "cell_type": "markdown",
   "id": "918a4ffd",
   "metadata": {},
   "source": [
    "Assign `images` as the images generated by `train_generator`"
   ]
  },
  {
   "cell_type": "markdown",
   "id": "45c0f22c",
   "metadata": {},
   "source": [
    "This same code can be run for testing and zeroshot datasets by setting `train_data_dir` to the appropriate directory. Variable names and `batch_size` can also be changed, but this is not necessary"
   ]
  }
 ],
 "metadata": {
  "kernelspec": {
   "display_name": "Python 3 (ipykernel)",
   "language": "python",
   "name": "python3"
  },
  "language_info": {
   "codemirror_mode": {
    "name": "ipython",
    "version": 3
   },
   "file_extension": ".py",
   "mimetype": "text/x-python",
   "name": "python",
   "nbconvert_exporter": "python",
   "pygments_lexer": "ipython3",
   "version": "3.9.12"
  }
 },
 "nbformat": 4,
 "nbformat_minor": 5
}
